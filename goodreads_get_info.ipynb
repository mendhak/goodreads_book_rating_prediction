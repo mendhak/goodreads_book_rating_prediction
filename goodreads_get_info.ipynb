{
 "cells": [
  {
   "cell_type": "code",
   "execution_count": 38,
   "id": "14d586de",
   "metadata": {},
   "outputs": [],
   "source": [
    "import requests \n",
    "from bs4 import BeautifulSoup\n",
    "import requests_cache\n",
    "import json\n",
    "requests_cache.install_cache('demo_cache')\n"
   ]
  },
  {
   "cell_type": "code",
   "execution_count": 53,
   "id": "d93f75fb",
   "metadata": {},
   "outputs": [
    {
     "name": "stdout",
     "output_type": "stream",
     "text": [
      "\n",
      "Book Name: Chindi (The Academy, #3)\n",
      "Author: Jack McDevitt\n",
      "Publication Date: 2002\n",
      "Number of Pages: 594\n",
      "Genres: science-fiction, fiction, space-opera, science-fiction-fantasy, adventure, audiobook, aliens\n"
     ]
    }
   ],
   "source": [
    "# Crawl goodreads URL to get book info\n",
    "\n",
    "url = 'https://www.goodreads.com/book/show/19220614-chindi'\n",
    "response = requests.get(url)\n",
    "\n",
    "soup = BeautifulSoup(response.content, 'html.parser')\n",
    "\n",
    "genres = []\n",
    "author_name = 'Unknown Author'\n",
    "number_of_pages = 0\n",
    "book_name = ''\n",
    "publication_date = '2000'\n",
    "\n",
    "publication_date = soup.find(\"p\", {\"data-testid\": \"publicationInfo\"}).text\n",
    "if publication_date:\n",
    "    publication_date = publication_date.split(' ')[-1]\n",
    "\n",
    "for item in soup.select('a.Button--tag'):\n",
    "    genre_url = item.attrs['href']\n",
    "    if genre_url.startswith('https://www.goodreads.com/genres/'):\n",
    "        genre = genre_url.split('/')[-1]\n",
    "        genre_tag = genre_url.split('/genres/')[1]\n",
    "        genres.append(genre_tag)\n",
    "\n",
    "# Get ld+json data\n",
    "ld_json_element = soup.find('script', type='application/ld+json')\n",
    "if ld_json_element:\n",
    "    ld_json_data = json.loads(ld_json_element.string)\n",
    "    number_of_pages = ld_json_data['numberOfPages']\n",
    "    author_name = ld_json_data['author'][0]['name']\n",
    "    book_name = ld_json_data['name']\n",
    "    \n",
    "print(f\"\"\"\n",
    "Book Name: {book_name}\n",
    "Author: {author_name}\n",
    "Publication Date: {publication_date}\n",
    "Number of Pages: {number_of_pages}\n",
    "Genres: {', '.join(genres)}\"\"\")"
   ]
  },
  {
   "cell_type": "code",
   "execution_count": 50,
   "id": "43689c0c",
   "metadata": {},
   "outputs": [],
   "source": [
    "import joblib\n",
    "import pandas as pd\n",
    "\n",
    "# Load the saved model and encoders\n",
    "model_data = joblib.load('goodreads_model_2.joblib')\n",
    "random_forest_model = model_data['model']\n",
    "author_encoder = model_data['author_encoder']\n",
    "mlb = model_data['genre_encoder']\n",
    "\n",
    "def predict_book_rating(title, author, year_published, num_pages, genres):\n",
    "    \n",
    "    book_features = pd.DataFrame(index=[0])\n",
    "    \n",
    "    # Handle unknown authors\n",
    "    try:\n",
    "        book_features['Author'] = author_encoder.transform([author])\n",
    "    except ValueError:\n",
    "        book_features['Author'] = author_encoder.transform(['Unknown Author'])\n",
    "    \n",
    "    book_features['Year Published'] = year_published\n",
    "    book_features['Number of Pages'] = num_pages\n",
    "    \n",
    "    # Handle genres - only use known genres\n",
    "    known_genres = list(set(genres) & set(mlb.classes_))\n",
    "    if not known_genres:\n",
    "        known_genres = ['']\n",
    "        \n",
    "    genre_features = pd.DataFrame(\n",
    "        mlb.transform([known_genres]), \n",
    "        columns=mlb.classes_,\n",
    "        index=[0]\n",
    "    )\n",
    "    \n",
    "    book_features = pd.concat([book_features, genre_features], axis=1)\n",
    "    predicted_rating = random_forest_model.predict(book_features)[0]\n",
    "    \n",
    "    return {\n",
    "        'Title': title,\n",
    "        'Predicted Rating': predicted_rating,\n",
    "        'Rating Sentence': \"You might like it\" if predicted_rating >= 2.8 \n",
    "                         else (\"It might be okay\" if predicted_rating >= 2.0 \n",
    "                         else \"You probably won't like it\"),\n",
    "        'Used Genres': known_genres\n",
    "    }"
   ]
  },
  {
   "cell_type": "code",
   "execution_count": null,
   "id": "2dae1e4c",
   "metadata": {},
   "outputs": [
    {
     "data": {
      "text/plain": [
       "{'Title': 'Chindi (The Academy, #3)',\n",
       " 'Predicted Rating': np.float64(2.8),\n",
       " 'Rating Sentence': 'You might like it',\n",
       " 'Used Genres': ['science-fiction', 'fiction']}"
      ]
     },
     "execution_count": 54,
     "metadata": {},
     "output_type": "execute_result"
    }
   ],
   "source": [
    "predict_book_rating(title=book_name,\n",
    "                    author=author_name,\n",
    "                    year_published=publication_date,\n",
    "                    num_pages=number_of_pages,\n",
    "                    genres=genres\n",
    "                    )"
   ]
  }
 ],
 "metadata": {
  "kernelspec": {
   "display_name": ".venv",
   "language": "python",
   "name": "python3"
  },
  "language_info": {
   "codemirror_mode": {
    "name": "ipython",
    "version": 3
   },
   "file_extension": ".py",
   "mimetype": "text/x-python",
   "name": "python",
   "nbconvert_exporter": "python",
   "pygments_lexer": "ipython3",
   "version": "3.11.11"
  }
 },
 "nbformat": 4,
 "nbformat_minor": 5
}
